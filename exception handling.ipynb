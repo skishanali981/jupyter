{
 "cells": [
  {
   "cell_type": "code",
   "execution_count": 1,
   "metadata": {},
   "outputs": [
    {
     "name": "stdout",
     "output_type": "stream",
     "text": [
      "hey it looks like you aren't adding correctly\n"
     ]
    }
   ],
   "source": [
    "try:\n",
    "    result = 10 + '10'\n",
    "except:\n",
    "    print(\"hey it looks like you aren't adding correctly\")"
   ]
  },
  {
   "cell_type": "code",
   "execution_count": 3,
   "metadata": {},
   "outputs": [
    {
     "name": "stdout",
     "output_type": "stream",
     "text": [
      "please enter an integeras\n",
      "Sorry it is not an integer\n",
      "I am always here at the end\n",
      "please enter an integerdas\n",
      "Sorry it is not an integer\n",
      "I am always here at the end\n",
      "please enter an integerbfg\n",
      "Sorry it is not an integer\n",
      "I am always here at the end\n",
      "please enter an integer12\n",
      "Thanks for entering correctly\n",
      "I am always here at the end\n"
     ]
    }
   ],
   "source": [
    "while True:\n",
    "    try:\n",
    "        coice = int(input('please enter an integer'))\n",
    "    except:\n",
    "        print('Sorry it is not an integer')\n",
    "        continue\n",
    "    else:\n",
    "        print('Thanks for entering correctly')\n",
    "        break\n",
    "    finally:\n",
    "        print('I am always here at the end')"
   ]
  },
  {
   "cell_type": "code",
   "execution_count": null,
   "metadata": {},
   "outputs": [],
   "source": []
  }
 ],
 "metadata": {
  "kernelspec": {
   "display_name": "Python 3",
   "language": "python",
   "name": "python3"
  },
  "language_info": {
   "codemirror_mode": {
    "name": "ipython",
    "version": 3
   },
   "file_extension": ".py",
   "mimetype": "text/x-python",
   "name": "python",
   "nbconvert_exporter": "python",
   "pygments_lexer": "ipython3",
   "version": "3.7.6"
  }
 },
 "nbformat": 4,
 "nbformat_minor": 4
}
